import pandas as pd
from sklearn.ensemble import RandomForestClassifier
from sklearn.tree import DecisionTreeClassifier
from sklearn.neighbors import KNeighborsClassifier
from sklearn.linear_model import LogisticRegression
from sklearn.naive_bayes import GaussianNB
from sklearn.svm import SVC
from sklearn.metrics import accuracy_score, confusion_matrix, classification_report
from sklearn.model_selection import cross_val_score

# Ensure all columns in X_train are numeric
def convert_to_numeric(df):
    for column in df.columns:
        df[column] = pd.to_numeric(df[column], errors='coerce')
    return df

# Convert X_train and X_test to numeric, forcing any non-numeric values to NaN
X_train = convert_to_numeric(X_train)
X_test = convert_to_numeric(X_test)

# Fill any NaN values that might have been created during conversion
X_train.fillna(X_train.median(), inplace=True)
X_test.fillna(X_test.median(), inplace=True)

# -------------------- Random Forest Classifier --------------------
RFC = RandomForestClassifier(random_state=1)
RFC.fit(X_train, y_train)
rf_predictions = RFC.predict(X_test)
rf_accuracy = accuracy_score(y_test, rf_predictions)
rf_accuracy_percentage = rf_accuracy * 100
print(f"Random Forest Accuracy: {rf_accuracy_percentage:.2f}%")
print("Random Forest Confusion Matrix:")
print(confusion_matrix(y_test, rf_predictions))
print("Random Forest Classification Report:")
print(classification_report(y_test, rf_predictions))
rf_cv_scores = cross_val_score(RFC, X_train, y_train, cv=5)
rf_cv_scores_percentage = rf_cv_scores.mean() * 100
print(f"Random Forest Cross-Validation Scores: {rf_cv_scores}")
print(f"Random Forest Mean Cross-Validation Score: {rf_cv_scores_percentage:.2f}%")

# -------------------- Decision Tree Classifier --------------------
DTC = DecisionTreeClassifier(random_state=1)
DTC.fit(X_train, y_train)
dt_predictions = DTC.predict(X_test)
dt_accuracy = accuracy_score(y_test, dt_predictions)
dt_accuracy_percentage = dt_accuracy * 100
print(f"Decision Tree Accuracy: {dt_accuracy_percentage:.2f}%")
print("Decision Tree Confusion Matrix:")
print(confusion_matrix(y_test, dt_predictions))
print("Decision Tree Classification Report:")
print(classification_report(y_test, dt_predictions))
dt_cv_scores = cross_val_score(DTC, X_train, y_train, cv=5)
dt_cv_scores_percentage = dt_cv_scores.mean() * 100
print(f"Decision Tree Cross-Validation Scores: {dt_cv_scores}")
print(f"Decision Tree Mean Cross-Validation Score: {dt_cv_scores_percentage:.2f}%")

# -------------------- K-Nearest Neighbors Classifier --------------------
knn = KNeighborsClassifier(n_neighbors=5)  # You can adjust the number of neighbors
knn.fit(X_train, y_train)
knn_predictions = knn.predict(X_test)
knn_accuracy = accuracy_score(y_test, knn_predictions)
knn_accuracy_percentage = knn_accuracy * 100
print(f"KNN Accuracy: {knn_accuracy_percentage:.2f}%")
print("KNN Confusion Matrix:")
print(confusion_matrix(y_test, knn_predictions))
print("KNN Classification Report:")
print(classification_report(y_test, knn_predictions))
knn_cv_scores = cross_val_score(knn, X_train, y_train, cv=5)
knn_cv_scores_percentage = knn_cv_scores.mean() * 100
print(f"KNN Cross-Validation Scores: {knn_cv_scores}")
print(f"KNN Mean Cross-Validation Score: {knn_cv_scores_percentage:.2f}%")

# -------------------- Logistic Regression --------------------
LR = LogisticRegression(random_state=1, max_iter=1000)  # max_iter increased to ensure convergence
LR.fit(X_train, y_train)
lr_predictions = LR.predict(X_test)
lr_accuracy = accuracy_score(y_test, lr_predictions)
lr_accuracy_percentage = lr_accuracy * 100
print(f"Logistic Regression Accuracy: {lr_accuracy_percentage:.2f}%")
print("Logistic Regression Confusion Matrix:")
print(confusion_matrix(y_test, lr_predictions))
print("Logistic Regression Classification Report:")
print(classification_report(y_test, lr_predictions))
lr_cv_scores = cross_val_score(LR, X_train, y_train, cv=5)
lr_cv_scores_percentage = lr_cv_scores.mean() * 100
print(f"Logistic Regression Cross-Validation Scores: {lr_cv_scores}")
print(f"Logistic Regression Mean Cross-Validation Score: {lr_cv_scores_percentage:.2f}%")

# -------------------- Naive Bayes Classifier --------------------
NB = GaussianNB()
NB.fit(X_train, y_train)
nb_predictions = NB.predict(X_test)
nb_accuracy = accuracy_score(y_test, nb_predictions)
nb_accuracy_percentage = nb_accuracy * 100
print(f"Naive Bayes Accuracy: {nb_accuracy_percentage:.2f}%")
print("Naive Bayes Confusion Matrix:")
print(confusion_matrix(y_test, nb_predictions))
print("Naive Bayes Classification Report:")
print(classification_report(y_test, nb_predictions))
nb_cv_scores = cross_val_score(NB, X_train, y_train, cv=5)
nb_cv_scores_percentage = nb_cv_scores.mean() * 100
print(f"Naive Bayes Cross-Validation Scores: {nb_cv_scores}")
print(f"Naive Bayes Mean Cross-Validation Score: {nb_cv_scores_percentage:.2f}%")

# -------------------- Support Vector Machine --------------------
SVM = SVC(random_state=1)
SVM.fit(X_train, y_train)
svm_predictions = SVM.predict(X_test)
svm_accuracy = accuracy_score(y_test, svm_predictions)
svm_accuracy_percentage = svm_accuracy * 100
print(f"SVM Accuracy: {svm_accuracy_percentage:.2f}%")
print("SVM Confusion Matrix:")
print(confusion_matrix(y_test, svm_predictions))
print("SVM Classification Report:")
print(classification_report(y_test, svm_predictions))
svm_cv_scores = cross_val_score(SVM, X_train, y_train, cv=5)
svm_cv_scores_percentage = svm_cv_scores.mean() * 100
print(f"SVM Cross-Validation Scores: {svm_cv_scores}")
print(f"SVM Mean Cross-Validation Score: {svm_cv_scores_percentage:.2f}%")

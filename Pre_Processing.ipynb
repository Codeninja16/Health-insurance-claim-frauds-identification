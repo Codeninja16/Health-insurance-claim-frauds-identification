# Import necessary libraries
import pandas as pd
import numpy as np

# Load Train Dataset
Train = pd.read_csv("archive/Train-1542865627584.csv")
Train_Beneficiarydata = pd.read_csv("archive/Train_Beneficiarydata-1542865627584.csv")
Train_Inpatientdata = pd.read_csv("archive/Train_Inpatientdata-1542865627584.csv")
Train_Outpatientdata = pd.read_csv("archive/Train_Outpatientdata-1542865627584.csv")

# Display the first few rows of the Train_Beneficiarydata
Train_Beneficiarydata.head()
# Check Shape of datasets
print('Shape of Train_Beneficiarydata:', Train_Beneficiarydata.shape)
print('Shape of Train_Inpatientdata:', Train_Inpatientdata.shape)
print('Shape of Train_Outpatientdata:', Train_Outpatientdata.shape)
print('Shape of Train:', Train.shape)
# Train Data Understanding
print('Data Shape:', Train.shape)
print('Data Sample:\n', Train.head(2))

# Check Provider Details
print('Number of unique providers in Train data:')
print(Train.Provider.value_counts(sort=True, ascending=False).head(2))

# Check for duplicates
print('\nTotal missing values in Train:', Train.isna().sum().sum())
# Handling Missing Values in Inpatient Data
Train_Inpatientdata["AttendingPhysician"] = Train_Inpatientdata["AttendingPhysician"].fillna(0)
Train_Inpatientdata["OperatingPhysician"] = Train_Inpatientdata["OperatingPhysician"].fillna(0)
Train_Inpatientdata["OtherPhysician"] = Train_Inpatientdata["OtherPhysician"].fillna(0)

# Fill missing DeductibleAmtPaid with median values
median_deductible = Train_Inpatientdata["DeductibleAmtPaid"].median()
Train_Inpatientdata["DeductibleAmtPaid"] = Train_Inpatientdata["DeductibleAmtPaid"].fillna(median_deductible)

# Fill missing Diagnosis and Procedure Codes with 0
diagnosis_codes = [f"ClmDiagnosisCode_{i}" for i in range(1, 11)]
procedure_codes = [f"ClmProcedureCode_{i}" for i in range(1, 7)]

for code in diagnosis_codes + procedure_codes:
    Train_Inpatientdata[code] = Train_Inpatientdata[code].fillna(0)

# Check for missing values after filling
Train_Inpatientdata.isnull().sum()
# Handling Missing Values in Outpatient Data
Train_Outpatientdata["AttendingPhysician"] = Train_Outpatientdata["AttendingPhysician"].fillna(0)
Train_Outpatientdata["OperatingPhysician"] = Train_Outpatientdata["OperatingPhysician"].fillna(0)
Train_Outpatientdata["OtherPhysician"] = Train_Outpatientdata["OtherPhysician"].fillna(0)

for code in diagnosis_codes + procedure_codes:
    Train_Outpatientdata[code] = Train_Outpatientdata[code].fillna(0)

Train_Outpatientdata["ClmAdmitDiagnosisCode"] = Train_Outpatientdata["ClmAdmitDiagnosisCode"].fillna(0)

# Check for missing values after filling
Train_Outpatientdata.isnull().sum()
# Feature Extraction in Beneficiary Data
Train_Beneficiarydata['DOB'] = pd.to_datetime(Train_Beneficiarydata['DOB'], format='%Y-%m-%d') # Changed the date format to match the data
Train_Beneficiarydata['DOD'] = pd.to_datetime(Train_Beneficiarydata['DOD'], format='%Y-%m-%d', errors='ignore')

# Calculate Age
Train_Beneficiarydata['Age'] = round(((Train_Beneficiarydata['DOD'] - Train_Beneficiarydata['DOB']).dt.days) / 365)

# Create WhetherDead flag
Train_Beneficiarydata['WhetherDead'] = Train_Beneficiarydata['DOD'].notna().astype(int)

# Fill missing Age
Train_Beneficiarydata['Age'].fillna(round(((pd.to_datetime('2009-12-01') - Train_Beneficiarydata['DOB']).dt.days) / 365), inplace=True)

# Check the updated DataFrame
Train_Beneficiarydata.head()
# Feature Extraction in Beneficiary Data
Train_Beneficiarydata['DOB'] = pd.to_datetime(Train_Beneficiarydata['DOB'], format='%Y-%m-%d') # Changed the date format to match the data
Train_Beneficiarydata['DOD'] = pd.to_datetime(Train_Beneficiarydata['DOD'], format='%Y-%m-%d', errors='ignore')

# Calculate Age
Train_Beneficiarydata['Age'] = round(((Train_Beneficiarydata['DOD'] - Train_Beneficiarydata['DOB']).dt.days) / 365)

# Create WhetherDead flag
Train_Beneficiarydata['WhetherDead'] = Train_Beneficiarydata['DOD'].notna().astype(int)

# Fill missing Age
Train_Beneficiarydata['Age'].fillna(round(((pd.to_datetime('2009-12-01') - Train_Beneficiarydata['DOB']).dt.days) / 365), inplace=True)

# Check the updated DataFrame
Train_Beneficiarydata.head()
# Merge Inpatient and Outpatient Data
Train_Allpatientdata = pd.merge(
    Train_Inpatientdata, Train_Outpatientdata,
    on=['BeneID', 'ClaimID', 'ClaimStartDt', 'ClaimEndDt', 'Provider',
        'InscClaimAmtReimbursed', 'AttendingPhysician', 'OperatingPhysician',
        'OtherPhysician', 'ClmDiagnosisCode_1', 'ClmDiagnosisCode_2',
        'ClmDiagnosisCode_3', 'ClmDiagnosisCode_4', 'ClmDiagnosisCode_5',
        'ClmDiagnosisCode_6', 'ClmDiagnosisCode_7', 'ClmDiagnosisCode_8',
        'ClmDiagnosisCode_9', 'ClmDiagnosisCode_10', 'ClmProcedureCode_1',
        'ClmProcedureCode_2', 'ClmProcedureCode_3', 'ClmProcedureCode_4',
        'ClmProcedureCode_5', 'ClmProcedureCode_6', 'DeductibleAmtPaid',
        'ClmAdmitDiagnosisCode', 'ClaimForDays'],
    how='outer'
)

print('Shape of Train_Inpatientdata:', Train_Inpatientdata.shape)
print('Shape of Train_Outpatientdata:', Train_Outpatientdata.shape)
print('Shape of Train_Allpatientdata:', Train_Allpatientdata.shape)
# Merge All Patient Data with Beneficiary Details
Train_AllPatientDetailsdata = pd.merge(
    Train_Allpatientdata, Train_Beneficiarydata,
    left_on='BeneID', right_on='BeneID',
    how='inner'
)

# Check Shape of datasets after merging
print('Shape of Train data:', Train.shape)
print('Shape of Train_Beneficiarydata:', Train_Beneficiarydata.shape)
print('Shape of Train_Inpatientdata:', Train_Inpatientdata.shape)
print('Shape of Train_Outpatientdata:', Train_Outpatientdata.shape)
print('Shape of Train_AllPatientDetailsdata:', Train_AllPatientDetailsdata.shape)
# Merge patient data with fraudulent providers details
All_ProviderWithPatientDetailsdata = pd.merge(Train, Train_AllPatientDetailsdata, on='Provider')

# Print the shape of the dataset
print("Shape of Train Provider with Patient Details data:", All_ProviderWithPatientDetailsdata.shape)

# Display the head and info of the dataset
All_ProviderWithPatientDetailsdata.head()
All_ProviderWithPatientDetailsdata.info()
# Handle missing values
data = All_ProviderWithPatientDetailsdata
data["DischargeDt"] = data["DischargeDt"].fillna(0)
data["AdmissionDt"] = data["AdmissionDt"].fillna(0)
data["DiagnosisGroupCode"] = data["DiagnosisGroupCode"].fillna(0)

# Display the remaining missing values
data.isnull().sum()

# Remove non-numeric characters from columns
columns_to_clean = ["BeneID", "Provider", "ClaimID", "AttendingPhysician",
                    "OperatingPhysician", "OtherPhysician", "ClmDiagnosisCode_1",
                    "ClmDiagnosisCode_2", "ClmDiagnosisCode_3", "ClmDiagnosisCode_4",
                    "ClmDiagnosisCode_5", "ClmDiagnosisCode_6", "ClmDiagnosisCode_7",
                    "ClmDiagnosisCode_8", "ClmDiagnosisCode_9", "ClmDiagnosisCode_10",
                    "ClmProcedureCode_1", "ClmProcedureCode_2", "ClmProcedureCode_3",
                    "ClmProcedureCode_4", "ClmProcedureCode_5", "ClmProcedureCode_6"]

data[columns_to_clean] = data[columns_to_clean].replace({r'\D': ''}, regex=True)

# Check the cleaned DataFrame
data.head()
# Save the cleaned and preprocessed data to a CSV file
data.to_csv('Healt_insurance.csv', index=False)

# Display the location of the saved file
print("Cleaned data saved to 'Healt_insurance.csv'")
        
